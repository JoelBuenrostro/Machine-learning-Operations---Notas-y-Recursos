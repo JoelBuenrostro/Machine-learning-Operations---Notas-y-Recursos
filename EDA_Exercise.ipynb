{
  "nbformat": 4,
  "nbformat_minor": 0,
  "metadata": {
    "colab": {
      "provenance": [],
      "include_colab_link": true
    },
    "kernelspec": {
      "name": "python3",
      "display_name": "Python 3"
    },
    "language_info": {
      "name": "python"
    }
  },
  "cells": [
    {
      "cell_type": "markdown",
      "metadata": {
        "id": "view-in-github",
        "colab_type": "text"
      },
      "source": [
        "<a href=\"https://colab.research.google.com/github/JoelBuenrostro/Machine-learning-Operations-Notas-y-Recursos/blob/main/EDA_Exercise.ipynb\" target=\"_parent\"><img src=\"https://colab.research.google.com/assets/colab-badge.svg\" alt=\"Open In Colab\"/></a>"
      ]
    },
    {
      "cell_type": "markdown",
      "source": [
        "# **WARNING: CREATE A COPY OF THIS NOTEBOOK BEFORE YOU BEGIN WORKING ON IT**"
      ],
      "metadata": {
        "id": "CZZbRJdUblSf"
      }
    },
    {
      "cell_type": "markdown",
      "source": [
        "![alt text](https://moriohcdn.b-cdn.net/ff3cc511fb.png)\n",
        "\n",
        "\n",
        "This notebook shows an example of a data analysis and the basic Python functions you can leverage to obtain insights from a dataset."
      ],
      "metadata": {
        "id": "2LJP10nhkh_D"
      }
    },
    {
      "cell_type": "markdown",
      "source": [
        "## 1. Import all necessary libraries"
      ],
      "metadata": {
        "id": "GTXpoCxBZDyZ"
      }
    },
    {
      "cell_type": "code",
      "execution_count": null,
      "metadata": {
        "id": "CP8bbIVgVfMX"
      },
      "outputs": [],
      "source": [
        "import pandas as pd\n",
        "import numpy as np\n",
        "import seaborn as sns                       #visualization\n",
        "import matplotlib.pyplot as plt             #visualization\n",
        "%matplotlib inline"
      ]
    },
    {
      "cell_type": "markdown",
      "source": [
        "**Note:** _%matplotlib inline_  gives the instruction for the output of plotting commands to be displayed inline within frontends like the Jupyter notebook, directly below the code cell that produced it."
      ],
      "metadata": {
        "id": "_2EPbqIVq8MQ"
      }
    },
    {
      "cell_type": "markdown",
      "source": [
        "## 2. Load the data to a Pandas dataframe\n",
        "\n",
        "The most common format for EDA datasets is CSV files. Using the _read_csv()_ function from Pandas you can read and store the file as a table and assign it to a variable.\n",
        "\n",
        "In this case, we can call it **data**, but you can assign the significative name that you prefer."
      ],
      "metadata": {
        "id": "nh1csu5ZZLY5"
      }
    },
    {
      "cell_type": "code",
      "source": [
        "data = pd.read_csv(\"healthcare_dataset.csv\")"
      ],
      "metadata": {
        "id": "nrKANcmnZT5m"
      },
      "execution_count": null,
      "outputs": []
    },
    {
      "cell_type": "markdown",
      "source": [
        "For the purpose of this exercise, we will review the healthcare dataset made public via Kaggle.com: https://www.kaggle.com/datasets/prasad22/healthcare-dataset?select=healthcare_dataset.csv"
      ],
      "metadata": {
        "id": "nn2NtBO-uzUg"
      }
    },
    {
      "cell_type": "markdown",
      "source": [
        "## 3. Get to know the data"
      ],
      "metadata": {
        "id": "6q9R29GbZWSg"
      }
    },
    {
      "cell_type": "markdown",
      "source": [
        "### a. Use and interpret the _shape_ function"
      ],
      "metadata": {
        "id": "Efs79HTlaztz"
      }
    },
    {
      "cell_type": "code",
      "source": [
        "data.shape"
      ],
      "metadata": {
        "colab": {
          "base_uri": "https://localhost:8080/"
        },
        "id": "WSdzUTRmbF3b",
        "outputId": "d920e5a3-994a-4024-8402-84b7b20b4883"
      },
      "execution_count": null,
      "outputs": [
        {
          "output_type": "execute_result",
          "data": {
            "text/plain": [
              "(10000, 15)"
            ]
          },
          "metadata": {},
          "execution_count": 596
        }
      ]
    },
    {
      "cell_type": "markdown",
      "source": [
        "The dataframe contains 10,000 rows with 15 columns of information."
      ],
      "metadata": {
        "id": "f0jH2ItNuSRu"
      }
    },
    {
      "cell_type": "markdown",
      "source": [
        "### b. Use and interpret the _head()_ function"
      ],
      "metadata": {
        "id": "LjeNAYc-aT_3"
      }
    },
    {
      "cell_type": "code",
      "source": [
        "data.head()"
      ],
      "metadata": {
        "colab": {
          "base_uri": "https://localhost:8080/",
          "height": 365
        },
        "id": "vaQ1kkFzZdsy",
        "outputId": "d49af3f2-199b-43ed-f0eb-2c5a90d0ab8c"
      },
      "execution_count": null,
      "outputs": [
        {
          "output_type": "execute_result",
          "data": {
            "text/plain": [
              "                  Name  Age  Gender Blood Type Medical Condition  \\\n",
              "0      Tiffany Ramirez   81  Female         O-          Diabetes   \n",
              "1          Ruben Burns   35    Male         O+            Asthma   \n",
              "2            Chad Byrd   61    Male         B-           Obesity   \n",
              "3    Antonio Frederick   49    Male         B-            Asthma   \n",
              "4  Mrs. Brandy Flowers   51    Male         O-         Arthritis   \n",
              "\n",
              "  Date of Admission          Doctor                   Hospital  \\\n",
              "0        2022-11-17  Patrick Parker           Wallace-Hamilton   \n",
              "1        2023-06-01   Diane Jackson  Burke, Griffin and Cooper   \n",
              "2        2019-01-09      Paul Baker                 Walton LLC   \n",
              "3        2020-05-02  Brian Chandler                 Garcia Ltd   \n",
              "4        2021-07-09  Dustin Griffin    Jones, Brown and Murray   \n",
              "\n",
              "  Insurance Provider  Billing Amount  Room Number Admission Type  \\\n",
              "0           Medicare    37490.983364          146       Elective   \n",
              "1   UnitedHealthcare    47304.064845          404      Emergency   \n",
              "2           Medicare    36874.896997          292      Emergency   \n",
              "3           Medicare    23303.322092          480         Urgent   \n",
              "4   UnitedHealthcare    18086.344184          477         Urgent   \n",
              "\n",
              "  Discharge Date   Medication  Test Results  \n",
              "0     2022-12-01      Aspirin  Inconclusive  \n",
              "1     2023-06-15      Lipitor        Normal  \n",
              "2     2019-02-08      Lipitor        Normal  \n",
              "3     2020-05-03   Penicillin      Abnormal  \n",
              "4     2021-08-02  Paracetamol        Normal  "
            ],
            "text/html": [
              "\n",
              "  <div id=\"df-c830f99e-04da-4fd6-88af-d43e3f2ac2f4\" class=\"colab-df-container\">\n",
              "    <div>\n",
              "<style scoped>\n",
              "    .dataframe tbody tr th:only-of-type {\n",
              "        vertical-align: middle;\n",
              "    }\n",
              "\n",
              "    .dataframe tbody tr th {\n",
              "        vertical-align: top;\n",
              "    }\n",
              "\n",
              "    .dataframe thead th {\n",
              "        text-align: right;\n",
              "    }\n",
              "</style>\n",
              "<table border=\"1\" class=\"dataframe\">\n",
              "  <thead>\n",
              "    <tr style=\"text-align: right;\">\n",
              "      <th></th>\n",
              "      <th>Name</th>\n",
              "      <th>Age</th>\n",
              "      <th>Gender</th>\n",
              "      <th>Blood Type</th>\n",
              "      <th>Medical Condition</th>\n",
              "      <th>Date of Admission</th>\n",
              "      <th>Doctor</th>\n",
              "      <th>Hospital</th>\n",
              "      <th>Insurance Provider</th>\n",
              "      <th>Billing Amount</th>\n",
              "      <th>Room Number</th>\n",
              "      <th>Admission Type</th>\n",
              "      <th>Discharge Date</th>\n",
              "      <th>Medication</th>\n",
              "      <th>Test Results</th>\n",
              "    </tr>\n",
              "  </thead>\n",
              "  <tbody>\n",
              "    <tr>\n",
              "      <th>0</th>\n",
              "      <td>Tiffany Ramirez</td>\n",
              "      <td>81</td>\n",
              "      <td>Female</td>\n",
              "      <td>O-</td>\n",
              "      <td>Diabetes</td>\n",
              "      <td>2022-11-17</td>\n",
              "      <td>Patrick Parker</td>\n",
              "      <td>Wallace-Hamilton</td>\n",
              "      <td>Medicare</td>\n",
              "      <td>37490.983364</td>\n",
              "      <td>146</td>\n",
              "      <td>Elective</td>\n",
              "      <td>2022-12-01</td>\n",
              "      <td>Aspirin</td>\n",
              "      <td>Inconclusive</td>\n",
              "    </tr>\n",
              "    <tr>\n",
              "      <th>1</th>\n",
              "      <td>Ruben Burns</td>\n",
              "      <td>35</td>\n",
              "      <td>Male</td>\n",
              "      <td>O+</td>\n",
              "      <td>Asthma</td>\n",
              "      <td>2023-06-01</td>\n",
              "      <td>Diane Jackson</td>\n",
              "      <td>Burke, Griffin and Cooper</td>\n",
              "      <td>UnitedHealthcare</td>\n",
              "      <td>47304.064845</td>\n",
              "      <td>404</td>\n",
              "      <td>Emergency</td>\n",
              "      <td>2023-06-15</td>\n",
              "      <td>Lipitor</td>\n",
              "      <td>Normal</td>\n",
              "    </tr>\n",
              "    <tr>\n",
              "      <th>2</th>\n",
              "      <td>Chad Byrd</td>\n",
              "      <td>61</td>\n",
              "      <td>Male</td>\n",
              "      <td>B-</td>\n",
              "      <td>Obesity</td>\n",
              "      <td>2019-01-09</td>\n",
              "      <td>Paul Baker</td>\n",
              "      <td>Walton LLC</td>\n",
              "      <td>Medicare</td>\n",
              "      <td>36874.896997</td>\n",
              "      <td>292</td>\n",
              "      <td>Emergency</td>\n",
              "      <td>2019-02-08</td>\n",
              "      <td>Lipitor</td>\n",
              "      <td>Normal</td>\n",
              "    </tr>\n",
              "    <tr>\n",
              "      <th>3</th>\n",
              "      <td>Antonio Frederick</td>\n",
              "      <td>49</td>\n",
              "      <td>Male</td>\n",
              "      <td>B-</td>\n",
              "      <td>Asthma</td>\n",
              "      <td>2020-05-02</td>\n",
              "      <td>Brian Chandler</td>\n",
              "      <td>Garcia Ltd</td>\n",
              "      <td>Medicare</td>\n",
              "      <td>23303.322092</td>\n",
              "      <td>480</td>\n",
              "      <td>Urgent</td>\n",
              "      <td>2020-05-03</td>\n",
              "      <td>Penicillin</td>\n",
              "      <td>Abnormal</td>\n",
              "    </tr>\n",
              "    <tr>\n",
              "      <th>4</th>\n",
              "      <td>Mrs. Brandy Flowers</td>\n",
              "      <td>51</td>\n",
              "      <td>Male</td>\n",
              "      <td>O-</td>\n",
              "      <td>Arthritis</td>\n",
              "      <td>2021-07-09</td>\n",
              "      <td>Dustin Griffin</td>\n",
              "      <td>Jones, Brown and Murray</td>\n",
              "      <td>UnitedHealthcare</td>\n",
              "      <td>18086.344184</td>\n",
              "      <td>477</td>\n",
              "      <td>Urgent</td>\n",
              "      <td>2021-08-02</td>\n",
              "      <td>Paracetamol</td>\n",
              "      <td>Normal</td>\n",
              "    </tr>\n",
              "  </tbody>\n",
              "</table>\n",
              "</div>\n",
              "    <div class=\"colab-df-buttons\">\n",
              "\n",
              "  <div class=\"colab-df-container\">\n",
              "    <button class=\"colab-df-convert\" onclick=\"convertToInteractive('df-c830f99e-04da-4fd6-88af-d43e3f2ac2f4')\"\n",
              "            title=\"Convert this dataframe to an interactive table.\"\n",
              "            style=\"display:none;\">\n",
              "\n",
              "  <svg xmlns=\"http://www.w3.org/2000/svg\" height=\"24px\" viewBox=\"0 -960 960 960\">\n",
              "    <path d=\"M120-120v-720h720v720H120Zm60-500h600v-160H180v160Zm220 220h160v-160H400v160Zm0 220h160v-160H400v160ZM180-400h160v-160H180v160Zm440 0h160v-160H620v160ZM180-180h160v-160H180v160Zm440 0h160v-160H620v160Z\"/>\n",
              "  </svg>\n",
              "    </button>\n",
              "\n",
              "  <style>\n",
              "    .colab-df-container {\n",
              "      display:flex;\n",
              "      gap: 12px;\n",
              "    }\n",
              "\n",
              "    .colab-df-convert {\n",
              "      background-color: #E8F0FE;\n",
              "      border: none;\n",
              "      border-radius: 50%;\n",
              "      cursor: pointer;\n",
              "      display: none;\n",
              "      fill: #1967D2;\n",
              "      height: 32px;\n",
              "      padding: 0 0 0 0;\n",
              "      width: 32px;\n",
              "    }\n",
              "\n",
              "    .colab-df-convert:hover {\n",
              "      background-color: #E2EBFA;\n",
              "      box-shadow: 0px 1px 2px rgba(60, 64, 67, 0.3), 0px 1px 3px 1px rgba(60, 64, 67, 0.15);\n",
              "      fill: #174EA6;\n",
              "    }\n",
              "\n",
              "    .colab-df-buttons div {\n",
              "      margin-bottom: 4px;\n",
              "    }\n",
              "\n",
              "    [theme=dark] .colab-df-convert {\n",
              "      background-color: #3B4455;\n",
              "      fill: #D2E3FC;\n",
              "    }\n",
              "\n",
              "    [theme=dark] .colab-df-convert:hover {\n",
              "      background-color: #434B5C;\n",
              "      box-shadow: 0px 1px 3px 1px rgba(0, 0, 0, 0.15);\n",
              "      filter: drop-shadow(0px 1px 2px rgba(0, 0, 0, 0.3));\n",
              "      fill: #FFFFFF;\n",
              "    }\n",
              "  </style>\n",
              "\n",
              "    <script>\n",
              "      const buttonEl =\n",
              "        document.querySelector('#df-c830f99e-04da-4fd6-88af-d43e3f2ac2f4 button.colab-df-convert');\n",
              "      buttonEl.style.display =\n",
              "        google.colab.kernel.accessAllowed ? 'block' : 'none';\n",
              "\n",
              "      async function convertToInteractive(key) {\n",
              "        const element = document.querySelector('#df-c830f99e-04da-4fd6-88af-d43e3f2ac2f4');\n",
              "        const dataTable =\n",
              "          await google.colab.kernel.invokeFunction('convertToInteractive',\n",
              "                                                    [key], {});\n",
              "        if (!dataTable) return;\n",
              "\n",
              "        const docLinkHtml = 'Like what you see? Visit the ' +\n",
              "          '<a target=\"_blank\" href=https://colab.research.google.com/notebooks/data_table.ipynb>data table notebook</a>'\n",
              "          + ' to learn more about interactive tables.';\n",
              "        element.innerHTML = '';\n",
              "        dataTable['output_type'] = 'display_data';\n",
              "        await google.colab.output.renderOutput(dataTable, element);\n",
              "        const docLink = document.createElement('div');\n",
              "        docLink.innerHTML = docLinkHtml;\n",
              "        element.appendChild(docLink);\n",
              "      }\n",
              "    </script>\n",
              "  </div>\n",
              "\n",
              "\n",
              "<div id=\"df-e0a8adcb-128e-4f80-a7b7-f8a6f2a49604\">\n",
              "  <button class=\"colab-df-quickchart\" onclick=\"quickchart('df-e0a8adcb-128e-4f80-a7b7-f8a6f2a49604')\"\n",
              "            title=\"Suggest charts\"\n",
              "            style=\"display:none;\">\n",
              "\n",
              "<svg xmlns=\"http://www.w3.org/2000/svg\" height=\"24px\"viewBox=\"0 0 24 24\"\n",
              "     width=\"24px\">\n",
              "    <g>\n",
              "        <path d=\"M19 3H5c-1.1 0-2 .9-2 2v14c0 1.1.9 2 2 2h14c1.1 0 2-.9 2-2V5c0-1.1-.9-2-2-2zM9 17H7v-7h2v7zm4 0h-2V7h2v10zm4 0h-2v-4h2v4z\"/>\n",
              "    </g>\n",
              "</svg>\n",
              "  </button>\n",
              "\n",
              "<style>\n",
              "  .colab-df-quickchart {\n",
              "      --bg-color: #E8F0FE;\n",
              "      --fill-color: #1967D2;\n",
              "      --hover-bg-color: #E2EBFA;\n",
              "      --hover-fill-color: #174EA6;\n",
              "      --disabled-fill-color: #AAA;\n",
              "      --disabled-bg-color: #DDD;\n",
              "  }\n",
              "\n",
              "  [theme=dark] .colab-df-quickchart {\n",
              "      --bg-color: #3B4455;\n",
              "      --fill-color: #D2E3FC;\n",
              "      --hover-bg-color: #434B5C;\n",
              "      --hover-fill-color: #FFFFFF;\n",
              "      --disabled-bg-color: #3B4455;\n",
              "      --disabled-fill-color: #666;\n",
              "  }\n",
              "\n",
              "  .colab-df-quickchart {\n",
              "    background-color: var(--bg-color);\n",
              "    border: none;\n",
              "    border-radius: 50%;\n",
              "    cursor: pointer;\n",
              "    display: none;\n",
              "    fill: var(--fill-color);\n",
              "    height: 32px;\n",
              "    padding: 0;\n",
              "    width: 32px;\n",
              "  }\n",
              "\n",
              "  .colab-df-quickchart:hover {\n",
              "    background-color: var(--hover-bg-color);\n",
              "    box-shadow: 0 1px 2px rgba(60, 64, 67, 0.3), 0 1px 3px 1px rgba(60, 64, 67, 0.15);\n",
              "    fill: var(--button-hover-fill-color);\n",
              "  }\n",
              "\n",
              "  .colab-df-quickchart-complete:disabled,\n",
              "  .colab-df-quickchart-complete:disabled:hover {\n",
              "    background-color: var(--disabled-bg-color);\n",
              "    fill: var(--disabled-fill-color);\n",
              "    box-shadow: none;\n",
              "  }\n",
              "\n",
              "  .colab-df-spinner {\n",
              "    border: 2px solid var(--fill-color);\n",
              "    border-color: transparent;\n",
              "    border-bottom-color: var(--fill-color);\n",
              "    animation:\n",
              "      spin 1s steps(1) infinite;\n",
              "  }\n",
              "\n",
              "  @keyframes spin {\n",
              "    0% {\n",
              "      border-color: transparent;\n",
              "      border-bottom-color: var(--fill-color);\n",
              "      border-left-color: var(--fill-color);\n",
              "    }\n",
              "    20% {\n",
              "      border-color: transparent;\n",
              "      border-left-color: var(--fill-color);\n",
              "      border-top-color: var(--fill-color);\n",
              "    }\n",
              "    30% {\n",
              "      border-color: transparent;\n",
              "      border-left-color: var(--fill-color);\n",
              "      border-top-color: var(--fill-color);\n",
              "      border-right-color: var(--fill-color);\n",
              "    }\n",
              "    40% {\n",
              "      border-color: transparent;\n",
              "      border-right-color: var(--fill-color);\n",
              "      border-top-color: var(--fill-color);\n",
              "    }\n",
              "    60% {\n",
              "      border-color: transparent;\n",
              "      border-right-color: var(--fill-color);\n",
              "    }\n",
              "    80% {\n",
              "      border-color: transparent;\n",
              "      border-right-color: var(--fill-color);\n",
              "      border-bottom-color: var(--fill-color);\n",
              "    }\n",
              "    90% {\n",
              "      border-color: transparent;\n",
              "      border-bottom-color: var(--fill-color);\n",
              "    }\n",
              "  }\n",
              "</style>\n",
              "\n",
              "  <script>\n",
              "    async function quickchart(key) {\n",
              "      const quickchartButtonEl =\n",
              "        document.querySelector('#' + key + ' button');\n",
              "      quickchartButtonEl.disabled = true;  // To prevent multiple clicks.\n",
              "      quickchartButtonEl.classList.add('colab-df-spinner');\n",
              "      try {\n",
              "        const charts = await google.colab.kernel.invokeFunction(\n",
              "            'suggestCharts', [key], {});\n",
              "      } catch (error) {\n",
              "        console.error('Error during call to suggestCharts:', error);\n",
              "      }\n",
              "      quickchartButtonEl.classList.remove('colab-df-spinner');\n",
              "      quickchartButtonEl.classList.add('colab-df-quickchart-complete');\n",
              "    }\n",
              "    (() => {\n",
              "      let quickchartButtonEl =\n",
              "        document.querySelector('#df-e0a8adcb-128e-4f80-a7b7-f8a6f2a49604 button');\n",
              "      quickchartButtonEl.style.display =\n",
              "        google.colab.kernel.accessAllowed ? 'block' : 'none';\n",
              "    })();\n",
              "  </script>\n",
              "</div>\n",
              "    </div>\n",
              "  </div>\n"
            ]
          },
          "metadata": {},
          "execution_count": 597
        }
      ]
    },
    {
      "cell_type": "markdown",
      "source": [
        "When you run the _head()_ function without arguments, it shows, by default, the first five rows of information. However, you can run it indicating the amount of rows you want to see."
      ],
      "metadata": {
        "id": "tJwUpGraubmQ"
      }
    },
    {
      "cell_type": "code",
      "source": [
        "data.head(10)"
      ],
      "metadata": {
        "colab": {
          "base_uri": "https://localhost:8080/",
          "height": 661
        },
        "id": "DBfkppk6ub7o",
        "outputId": "80110466-e6d3-4c12-d249-2cd5b7282838"
      },
      "execution_count": null,
      "outputs": [
        {
          "output_type": "execute_result",
          "data": {
            "text/plain": [
              "                  Name  Age  Gender Blood Type Medical Condition  \\\n",
              "0      Tiffany Ramirez   81  Female         O-          Diabetes   \n",
              "1          Ruben Burns   35    Male         O+            Asthma   \n",
              "2            Chad Byrd   61    Male         B-           Obesity   \n",
              "3    Antonio Frederick   49    Male         B-            Asthma   \n",
              "4  Mrs. Brandy Flowers   51    Male         O-         Arthritis   \n",
              "5       Patrick Parker   41    Male        AB+         Arthritis   \n",
              "6       Charles Horton   82    Male        AB+      Hypertension   \n",
              "7         Patty Norman   55  Female         O-         Arthritis   \n",
              "8           Ryan Hayes   33    Male         A+          Diabetes   \n",
              "9         Sharon Perez   39  Female         O-            Asthma   \n",
              "\n",
              "  Date of Admission           Doctor                   Hospital  \\\n",
              "0        2022-11-17   Patrick Parker           Wallace-Hamilton   \n",
              "1        2023-06-01    Diane Jackson  Burke, Griffin and Cooper   \n",
              "2        2019-01-09       Paul Baker                 Walton LLC   \n",
              "3        2020-05-02   Brian Chandler                 Garcia Ltd   \n",
              "4        2021-07-09   Dustin Griffin    Jones, Brown and Murray   \n",
              "5        2020-08-20      Robin Green                   Boyd PLC   \n",
              "6        2021-03-22  Patricia Bishop  Wheeler, Bryant and Johns   \n",
              "7        2019-05-16    Brian Kennedy                  Brown Inc   \n",
              "8        2020-12-17     Kristin Dunn  Smith, Edwards and Obrien   \n",
              "9        2022-12-15   Jessica Bailey               Brown-Golden   \n",
              "\n",
              "  Insurance Provider  Billing Amount  Room Number Admission Type  \\\n",
              "0           Medicare    37490.983364          146       Elective   \n",
              "1   UnitedHealthcare    47304.064845          404      Emergency   \n",
              "2           Medicare    36874.896997          292      Emergency   \n",
              "3           Medicare    23303.322092          480         Urgent   \n",
              "4   UnitedHealthcare    18086.344184          477         Urgent   \n",
              "5              Aetna    22522.363385          180         Urgent   \n",
              "6              Cigna    39593.435761          161         Urgent   \n",
              "7         Blue Cross    13546.817249          384       Elective   \n",
              "8              Aetna    24903.037270          215       Elective   \n",
              "9         Blue Cross    22788.236026          310         Urgent   \n",
              "\n",
              "  Discharge Date   Medication  Test Results  \n",
              "0     2022-12-01      Aspirin  Inconclusive  \n",
              "1     2023-06-15      Lipitor        Normal  \n",
              "2     2019-02-08      Lipitor        Normal  \n",
              "3     2020-05-03   Penicillin      Abnormal  \n",
              "4     2021-08-02  Paracetamol        Normal  \n",
              "5     2020-08-23      Aspirin      Abnormal  \n",
              "6     2021-04-15      Lipitor      Abnormal  \n",
              "7     2019-06-02      Aspirin        Normal  \n",
              "8     2020-12-22      Aspirin      Abnormal  \n",
              "9     2022-12-16      Aspirin        Normal  "
            ],
            "text/html": [
              "\n",
              "  <div id=\"df-0aca424e-4226-460b-80b4-75add11cabf4\" class=\"colab-df-container\">\n",
              "    <div>\n",
              "<style scoped>\n",
              "    .dataframe tbody tr th:only-of-type {\n",
              "        vertical-align: middle;\n",
              "    }\n",
              "\n",
              "    .dataframe tbody tr th {\n",
              "        vertical-align: top;\n",
              "    }\n",
              "\n",
              "    .dataframe thead th {\n",
              "        text-align: right;\n",
              "    }\n",
              "</style>\n",
              "<table border=\"1\" class=\"dataframe\">\n",
              "  <thead>\n",
              "    <tr style=\"text-align: right;\">\n",
              "      <th></th>\n",
              "      <th>Name</th>\n",
              "      <th>Age</th>\n",
              "      <th>Gender</th>\n",
              "      <th>Blood Type</th>\n",
              "      <th>Medical Condition</th>\n",
              "      <th>Date of Admission</th>\n",
              "      <th>Doctor</th>\n",
              "      <th>Hospital</th>\n",
              "      <th>Insurance Provider</th>\n",
              "      <th>Billing Amount</th>\n",
              "      <th>Room Number</th>\n",
              "      <th>Admission Type</th>\n",
              "      <th>Discharge Date</th>\n",
              "      <th>Medication</th>\n",
              "      <th>Test Results</th>\n",
              "    </tr>\n",
              "  </thead>\n",
              "  <tbody>\n",
              "    <tr>\n",
              "      <th>0</th>\n",
              "      <td>Tiffany Ramirez</td>\n",
              "      <td>81</td>\n",
              "      <td>Female</td>\n",
              "      <td>O-</td>\n",
              "      <td>Diabetes</td>\n",
              "      <td>2022-11-17</td>\n",
              "      <td>Patrick Parker</td>\n",
              "      <td>Wallace-Hamilton</td>\n",
              "      <td>Medicare</td>\n",
              "      <td>37490.983364</td>\n",
              "      <td>146</td>\n",
              "      <td>Elective</td>\n",
              "      <td>2022-12-01</td>\n",
              "      <td>Aspirin</td>\n",
              "      <td>Inconclusive</td>\n",
              "    </tr>\n",
              "    <tr>\n",
              "      <th>1</th>\n",
              "      <td>Ruben Burns</td>\n",
              "      <td>35</td>\n",
              "      <td>Male</td>\n",
              "      <td>O+</td>\n",
              "      <td>Asthma</td>\n",
              "      <td>2023-06-01</td>\n",
              "      <td>Diane Jackson</td>\n",
              "      <td>Burke, Griffin and Cooper</td>\n",
              "      <td>UnitedHealthcare</td>\n",
              "      <td>47304.064845</td>\n",
              "      <td>404</td>\n",
              "      <td>Emergency</td>\n",
              "      <td>2023-06-15</td>\n",
              "      <td>Lipitor</td>\n",
              "      <td>Normal</td>\n",
              "    </tr>\n",
              "    <tr>\n",
              "      <th>2</th>\n",
              "      <td>Chad Byrd</td>\n",
              "      <td>61</td>\n",
              "      <td>Male</td>\n",
              "      <td>B-</td>\n",
              "      <td>Obesity</td>\n",
              "      <td>2019-01-09</td>\n",
              "      <td>Paul Baker</td>\n",
              "      <td>Walton LLC</td>\n",
              "      <td>Medicare</td>\n",
              "      <td>36874.896997</td>\n",
              "      <td>292</td>\n",
              "      <td>Emergency</td>\n",
              "      <td>2019-02-08</td>\n",
              "      <td>Lipitor</td>\n",
              "      <td>Normal</td>\n",
              "    </tr>\n",
              "    <tr>\n",
              "      <th>3</th>\n",
              "      <td>Antonio Frederick</td>\n",
              "      <td>49</td>\n",
              "      <td>Male</td>\n",
              "      <td>B-</td>\n",
              "      <td>Asthma</td>\n",
              "      <td>2020-05-02</td>\n",
              "      <td>Brian Chandler</td>\n",
              "      <td>Garcia Ltd</td>\n",
              "      <td>Medicare</td>\n",
              "      <td>23303.322092</td>\n",
              "      <td>480</td>\n",
              "      <td>Urgent</td>\n",
              "      <td>2020-05-03</td>\n",
              "      <td>Penicillin</td>\n",
              "      <td>Abnormal</td>\n",
              "    </tr>\n",
              "    <tr>\n",
              "      <th>4</th>\n",
              "      <td>Mrs. Brandy Flowers</td>\n",
              "      <td>51</td>\n",
              "      <td>Male</td>\n",
              "      <td>O-</td>\n",
              "      <td>Arthritis</td>\n",
              "      <td>2021-07-09</td>\n",
              "      <td>Dustin Griffin</td>\n",
              "      <td>Jones, Brown and Murray</td>\n",
              "      <td>UnitedHealthcare</td>\n",
              "      <td>18086.344184</td>\n",
              "      <td>477</td>\n",
              "      <td>Urgent</td>\n",
              "      <td>2021-08-02</td>\n",
              "      <td>Paracetamol</td>\n",
              "      <td>Normal</td>\n",
              "    </tr>\n",
              "    <tr>\n",
              "      <th>5</th>\n",
              "      <td>Patrick Parker</td>\n",
              "      <td>41</td>\n",
              "      <td>Male</td>\n",
              "      <td>AB+</td>\n",
              "      <td>Arthritis</td>\n",
              "      <td>2020-08-20</td>\n",
              "      <td>Robin Green</td>\n",
              "      <td>Boyd PLC</td>\n",
              "      <td>Aetna</td>\n",
              "      <td>22522.363385</td>\n",
              "      <td>180</td>\n",
              "      <td>Urgent</td>\n",
              "      <td>2020-08-23</td>\n",
              "      <td>Aspirin</td>\n",
              "      <td>Abnormal</td>\n",
              "    </tr>\n",
              "    <tr>\n",
              "      <th>6</th>\n",
              "      <td>Charles Horton</td>\n",
              "      <td>82</td>\n",
              "      <td>Male</td>\n",
              "      <td>AB+</td>\n",
              "      <td>Hypertension</td>\n",
              "      <td>2021-03-22</td>\n",
              "      <td>Patricia Bishop</td>\n",
              "      <td>Wheeler, Bryant and Johns</td>\n",
              "      <td>Cigna</td>\n",
              "      <td>39593.435761</td>\n",
              "      <td>161</td>\n",
              "      <td>Urgent</td>\n",
              "      <td>2021-04-15</td>\n",
              "      <td>Lipitor</td>\n",
              "      <td>Abnormal</td>\n",
              "    </tr>\n",
              "    <tr>\n",
              "      <th>7</th>\n",
              "      <td>Patty Norman</td>\n",
              "      <td>55</td>\n",
              "      <td>Female</td>\n",
              "      <td>O-</td>\n",
              "      <td>Arthritis</td>\n",
              "      <td>2019-05-16</td>\n",
              "      <td>Brian Kennedy</td>\n",
              "      <td>Brown Inc</td>\n",
              "      <td>Blue Cross</td>\n",
              "      <td>13546.817249</td>\n",
              "      <td>384</td>\n",
              "      <td>Elective</td>\n",
              "      <td>2019-06-02</td>\n",
              "      <td>Aspirin</td>\n",
              "      <td>Normal</td>\n",
              "    </tr>\n",
              "    <tr>\n",
              "      <th>8</th>\n",
              "      <td>Ryan Hayes</td>\n",
              "      <td>33</td>\n",
              "      <td>Male</td>\n",
              "      <td>A+</td>\n",
              "      <td>Diabetes</td>\n",
              "      <td>2020-12-17</td>\n",
              "      <td>Kristin Dunn</td>\n",
              "      <td>Smith, Edwards and Obrien</td>\n",
              "      <td>Aetna</td>\n",
              "      <td>24903.037270</td>\n",
              "      <td>215</td>\n",
              "      <td>Elective</td>\n",
              "      <td>2020-12-22</td>\n",
              "      <td>Aspirin</td>\n",
              "      <td>Abnormal</td>\n",
              "    </tr>\n",
              "    <tr>\n",
              "      <th>9</th>\n",
              "      <td>Sharon Perez</td>\n",
              "      <td>39</td>\n",
              "      <td>Female</td>\n",
              "      <td>O-</td>\n",
              "      <td>Asthma</td>\n",
              "      <td>2022-12-15</td>\n",
              "      <td>Jessica Bailey</td>\n",
              "      <td>Brown-Golden</td>\n",
              "      <td>Blue Cross</td>\n",
              "      <td>22788.236026</td>\n",
              "      <td>310</td>\n",
              "      <td>Urgent</td>\n",
              "      <td>2022-12-16</td>\n",
              "      <td>Aspirin</td>\n",
              "      <td>Normal</td>\n",
              "    </tr>\n",
              "  </tbody>\n",
              "</table>\n",
              "</div>\n",
              "    <div class=\"colab-df-buttons\">\n",
              "\n",
              "  <div class=\"colab-df-container\">\n",
              "    <button class=\"colab-df-convert\" onclick=\"convertToInteractive('df-0aca424e-4226-460b-80b4-75add11cabf4')\"\n",
              "            title=\"Convert this dataframe to an interactive table.\"\n",
              "            style=\"display:none;\">\n",
              "\n",
              "  <svg xmlns=\"http://www.w3.org/2000/svg\" height=\"24px\" viewBox=\"0 -960 960 960\">\n",
              "    <path d=\"M120-120v-720h720v720H120Zm60-500h600v-160H180v160Zm220 220h160v-160H400v160Zm0 220h160v-160H400v160ZM180-400h160v-160H180v160Zm440 0h160v-160H620v160ZM180-180h160v-160H180v160Zm440 0h160v-160H620v160Z\"/>\n",
              "  </svg>\n",
              "    </button>\n",
              "\n",
              "  <style>\n",
              "    .colab-df-container {\n",
              "      display:flex;\n",
              "      gap: 12px;\n",
              "    }\n",
              "\n",
              "    .colab-df-convert {\n",
              "      background-color: #E8F0FE;\n",
              "      border: none;\n",
              "      border-radius: 50%;\n",
              "      cursor: pointer;\n",
              "      display: none;\n",
              "      fill: #1967D2;\n",
              "      height: 32px;\n",
              "      padding: 0 0 0 0;\n",
              "      width: 32px;\n",
              "    }\n",
              "\n",
              "    .colab-df-convert:hover {\n",
              "      background-color: #E2EBFA;\n",
              "      box-shadow: 0px 1px 2px rgba(60, 64, 67, 0.3), 0px 1px 3px 1px rgba(60, 64, 67, 0.15);\n",
              "      fill: #174EA6;\n",
              "    }\n",
              "\n",
              "    .colab-df-buttons div {\n",
              "      margin-bottom: 4px;\n",
              "    }\n",
              "\n",
              "    [theme=dark] .colab-df-convert {\n",
              "      background-color: #3B4455;\n",
              "      fill: #D2E3FC;\n",
              "    }\n",
              "\n",
              "    [theme=dark] .colab-df-convert:hover {\n",
              "      background-color: #434B5C;\n",
              "      box-shadow: 0px 1px 3px 1px rgba(0, 0, 0, 0.15);\n",
              "      filter: drop-shadow(0px 1px 2px rgba(0, 0, 0, 0.3));\n",
              "      fill: #FFFFFF;\n",
              "    }\n",
              "  </style>\n",
              "\n",
              "    <script>\n",
              "      const buttonEl =\n",
              "        document.querySelector('#df-0aca424e-4226-460b-80b4-75add11cabf4 button.colab-df-convert');\n",
              "      buttonEl.style.display =\n",
              "        google.colab.kernel.accessAllowed ? 'block' : 'none';\n",
              "\n",
              "      async function convertToInteractive(key) {\n",
              "        const element = document.querySelector('#df-0aca424e-4226-460b-80b4-75add11cabf4');\n",
              "        const dataTable =\n",
              "          await google.colab.kernel.invokeFunction('convertToInteractive',\n",
              "                                                    [key], {});\n",
              "        if (!dataTable) return;\n",
              "\n",
              "        const docLinkHtml = 'Like what you see? Visit the ' +\n",
              "          '<a target=\"_blank\" href=https://colab.research.google.com/notebooks/data_table.ipynb>data table notebook</a>'\n",
              "          + ' to learn more about interactive tables.';\n",
              "        element.innerHTML = '';\n",
              "        dataTable['output_type'] = 'display_data';\n",
              "        await google.colab.output.renderOutput(dataTable, element);\n",
              "        const docLink = document.createElement('div');\n",
              "        docLink.innerHTML = docLinkHtml;\n",
              "        element.appendChild(docLink);\n",
              "      }\n",
              "    </script>\n",
              "  </div>\n",
              "\n",
              "\n",
              "<div id=\"df-78f78b0f-066c-4adb-ad4e-99a84cef73b6\">\n",
              "  <button class=\"colab-df-quickchart\" onclick=\"quickchart('df-78f78b0f-066c-4adb-ad4e-99a84cef73b6')\"\n",
              "            title=\"Suggest charts\"\n",
              "            style=\"display:none;\">\n",
              "\n",
              "<svg xmlns=\"http://www.w3.org/2000/svg\" height=\"24px\"viewBox=\"0 0 24 24\"\n",
              "     width=\"24px\">\n",
              "    <g>\n",
              "        <path d=\"M19 3H5c-1.1 0-2 .9-2 2v14c0 1.1.9 2 2 2h14c1.1 0 2-.9 2-2V5c0-1.1-.9-2-2-2zM9 17H7v-7h2v7zm4 0h-2V7h2v10zm4 0h-2v-4h2v4z\"/>\n",
              "    </g>\n",
              "</svg>\n",
              "  </button>\n",
              "\n",
              "<style>\n",
              "  .colab-df-quickchart {\n",
              "      --bg-color: #E8F0FE;\n",
              "      --fill-color: #1967D2;\n",
              "      --hover-bg-color: #E2EBFA;\n",
              "      --hover-fill-color: #174EA6;\n",
              "      --disabled-fill-color: #AAA;\n",
              "      --disabled-bg-color: #DDD;\n",
              "  }\n",
              "\n",
              "  [theme=dark] .colab-df-quickchart {\n",
              "      --bg-color: #3B4455;\n",
              "      --fill-color: #D2E3FC;\n",
              "      --hover-bg-color: #434B5C;\n",
              "      --hover-fill-color: #FFFFFF;\n",
              "      --disabled-bg-color: #3B4455;\n",
              "      --disabled-fill-color: #666;\n",
              "  }\n",
              "\n",
              "  .colab-df-quickchart {\n",
              "    background-color: var(--bg-color);\n",
              "    border: none;\n",
              "    border-radius: 50%;\n",
              "    cursor: pointer;\n",
              "    display: none;\n",
              "    fill: var(--fill-color);\n",
              "    height: 32px;\n",
              "    padding: 0;\n",
              "    width: 32px;\n",
              "  }\n",
              "\n",
              "  .colab-df-quickchart:hover {\n",
              "    background-color: var(--hover-bg-color);\n",
              "    box-shadow: 0 1px 2px rgba(60, 64, 67, 0.3), 0 1px 3px 1px rgba(60, 64, 67, 0.15);\n",
              "    fill: var(--button-hover-fill-color);\n",
              "  }\n",
              "\n",
              "  .colab-df-quickchart-complete:disabled,\n",
              "  .colab-df-quickchart-complete:disabled:hover {\n",
              "    background-color: var(--disabled-bg-color);\n",
              "    fill: var(--disabled-fill-color);\n",
              "    box-shadow: none;\n",
              "  }\n",
              "\n",
              "  .colab-df-spinner {\n",
              "    border: 2px solid var(--fill-color);\n",
              "    border-color: transparent;\n",
              "    border-bottom-color: var(--fill-color);\n",
              "    animation:\n",
              "      spin 1s steps(1) infinite;\n",
              "  }\n",
              "\n",
              "  @keyframes spin {\n",
              "    0% {\n",
              "      border-color: transparent;\n",
              "      border-bottom-color: var(--fill-color);\n",
              "      border-left-color: var(--fill-color);\n",
              "    }\n",
              "    20% {\n",
              "      border-color: transparent;\n",
              "      border-left-color: var(--fill-color);\n",
              "      border-top-color: var(--fill-color);\n",
              "    }\n",
              "    30% {\n",
              "      border-color: transparent;\n",
              "      border-left-color: var(--fill-color);\n",
              "      border-top-color: var(--fill-color);\n",
              "      border-right-color: var(--fill-color);\n",
              "    }\n",
              "    40% {\n",
              "      border-color: transparent;\n",
              "      border-right-color: var(--fill-color);\n",
              "      border-top-color: var(--fill-color);\n",
              "    }\n",
              "    60% {\n",
              "      border-color: transparent;\n",
              "      border-right-color: var(--fill-color);\n",
              "    }\n",
              "    80% {\n",
              "      border-color: transparent;\n",
              "      border-right-color: var(--fill-color);\n",
              "      border-bottom-color: var(--fill-color);\n",
              "    }\n",
              "    90% {\n",
              "      border-color: transparent;\n",
              "      border-bottom-color: var(--fill-color);\n",
              "    }\n",
              "  }\n",
              "</style>\n",
              "\n",
              "  <script>\n",
              "    async function quickchart(key) {\n",
              "      const quickchartButtonEl =\n",
              "        document.querySelector('#' + key + ' button');\n",
              "      quickchartButtonEl.disabled = true;  // To prevent multiple clicks.\n",
              "      quickchartButtonEl.classList.add('colab-df-spinner');\n",
              "      try {\n",
              "        const charts = await google.colab.kernel.invokeFunction(\n",
              "            'suggestCharts', [key], {});\n",
              "      } catch (error) {\n",
              "        console.error('Error during call to suggestCharts:', error);\n",
              "      }\n",
              "      quickchartButtonEl.classList.remove('colab-df-spinner');\n",
              "      quickchartButtonEl.classList.add('colab-df-quickchart-complete');\n",
              "    }\n",
              "    (() => {\n",
              "      let quickchartButtonEl =\n",
              "        document.querySelector('#df-78f78b0f-066c-4adb-ad4e-99a84cef73b6 button');\n",
              "      quickchartButtonEl.style.display =\n",
              "        google.colab.kernel.accessAllowed ? 'block' : 'none';\n",
              "    })();\n",
              "  </script>\n",
              "</div>\n",
              "    </div>\n",
              "  </div>\n"
            ]
          },
          "metadata": {},
          "execution_count": 598
        }
      ]
    },
    {
      "cell_type": "markdown",
      "source": [
        "### c. Use and interpret the _dtypes_ function"
      ],
      "metadata": {
        "id": "WwYF0Oe7ZlzM"
      }
    },
    {
      "cell_type": "code",
      "source": [
        "data.dtypes"
      ],
      "metadata": {
        "colab": {
          "base_uri": "https://localhost:8080/"
        },
        "id": "OMgq2hmFbGZK",
        "outputId": "420370ea-21c9-4291-93ff-120889368060"
      },
      "execution_count": null,
      "outputs": [
        {
          "output_type": "execute_result",
          "data": {
            "text/plain": [
              "Name                   object\n",
              "Age                     int64\n",
              "Gender                 object\n",
              "Blood Type             object\n",
              "Medical Condition      object\n",
              "Date of Admission      object\n",
              "Doctor                 object\n",
              "Hospital               object\n",
              "Insurance Provider     object\n",
              "Billing Amount        float64\n",
              "Room Number             int64\n",
              "Admission Type         object\n",
              "Discharge Date         object\n",
              "Medication             object\n",
              "Test Results           object\n",
              "dtype: object"
            ]
          },
          "metadata": {},
          "execution_count": 599
        }
      ]
    },
    {
      "cell_type": "markdown",
      "source": [
        "The _dtypes_ function enables you to see the type of data that each column contains.\n",
        "\n",
        "- int64 refers to integer numbers\n",
        "- float64 refers to floating numbers\n",
        "- object is a text type or string\n",
        "\n",
        "Implementing this function you get to know your data better, but you can also detect the need to modify information. For example, sometimes you can find that a datetime column shows up as object. Then you must transform the colum to a datetime type for accurate analysis.\n",
        "\n",
        "In this case, the date columns were read as objects, so it is best to transform them. You can use the _astype()_ function."
      ],
      "metadata": {
        "id": "zb4bvLgQvizM"
      }
    },
    {
      "cell_type": "code",
      "source": [
        "# transform to datetime values\n",
        "\n",
        "'''\n",
        "data[\"Date of Admission\"] = data[\"Date of Admission\"].astype(np.datetime64)\n",
        "data[\"Discharge Date\"] = data[\"Discharge Date\"].astype(np.datetime64)\n",
        "'''\n",
        "\n",
        "# Or\n",
        "\n",
        "data[\"Date of Admission\"] = pd.to_datetime(data[\"Date of Admission\"], format='%Y-%m-%d')\n",
        "data[\"Discharge Date\"] = pd.to_datetime(data[\"Discharge Date\"], format='%Y-%m-%d')"
      ],
      "metadata": {
        "id": "NNyKW7I1hOvZ"
      },
      "execution_count": null,
      "outputs": []
    },
    {
      "cell_type": "code",
      "source": [
        "# run dtypes again to confirm\n",
        "data.dtypes"
      ],
      "metadata": {
        "colab": {
          "base_uri": "https://localhost:8080/"
        },
        "id": "cwxWBoN5jWlg",
        "outputId": "91ffaea5-3340-43db-ca2a-9f986782c744"
      },
      "execution_count": null,
      "outputs": [
        {
          "output_type": "execute_result",
          "data": {
            "text/plain": [
              "Name                          object\n",
              "Age                            int64\n",
              "Gender                        object\n",
              "Blood Type                    object\n",
              "Medical Condition             object\n",
              "Date of Admission     datetime64[ns]\n",
              "Doctor                        object\n",
              "Hospital                      object\n",
              "Insurance Provider            object\n",
              "Billing Amount               float64\n",
              "Room Number                    int64\n",
              "Admission Type                object\n",
              "Discharge Date        datetime64[ns]\n",
              "Medication                    object\n",
              "Test Results                  object\n",
              "dtype: object"
            ]
          },
          "metadata": {},
          "execution_count": 601
        }
      ]
    },
    {
      "cell_type": "markdown",
      "source": [
        "Additionally, the column Room Number, even though it is a number, it does not represent a quantity. It is bes to treat it as a categorical variable. In this case, you can transform it from integer to object."
      ],
      "metadata": {
        "id": "t6S4M65yhERm"
      }
    },
    {
      "cell_type": "code",
      "source": [
        "data[\"Room Number\"] = data[\"Room Number\"].astype(object)"
      ],
      "metadata": {
        "id": "N0suWQNjhUT7"
      },
      "execution_count": null,
      "outputs": []
    },
    {
      "cell_type": "code",
      "source": [
        "# run dtypes again to confirm\n",
        "data.dtypes"
      ],
      "metadata": {
        "colab": {
          "base_uri": "https://localhost:8080/"
        },
        "id": "9XHaR58rhkG8",
        "outputId": "56ef7ca7-fd71-40e6-aa59-2e23152a8deb"
      },
      "execution_count": null,
      "outputs": [
        {
          "output_type": "execute_result",
          "data": {
            "text/plain": [
              "Name                          object\n",
              "Age                            int64\n",
              "Gender                        object\n",
              "Blood Type                    object\n",
              "Medical Condition             object\n",
              "Date of Admission     datetime64[ns]\n",
              "Doctor                        object\n",
              "Hospital                      object\n",
              "Insurance Provider            object\n",
              "Billing Amount               float64\n",
              "Room Number                   object\n",
              "Admission Type                object\n",
              "Discharge Date        datetime64[ns]\n",
              "Medication                    object\n",
              "Test Results                  object\n",
              "dtype: object"
            ]
          },
          "metadata": {},
          "execution_count": 603
        }
      ]
    },
    {
      "cell_type": "markdown",
      "source": [
        "### d. Use and interpret the _describe()_ function"
      ],
      "metadata": {
        "id": "DB-m4ljHaH1E"
      }
    },
    {
      "cell_type": "code",
      "source": [
        "data.describe()"
      ],
      "metadata": {
        "colab": {
          "base_uri": "https://localhost:8080/",
          "height": 300
        },
        "id": "nFuqvGN_bBLd",
        "outputId": "910a7693-18da-4a64-b4af-733cc38ddcf3"
      },
      "execution_count": null,
      "outputs": [
        {
          "output_type": "execute_result",
          "data": {
            "text/plain": [
              "                Age  Billing Amount\n",
              "count  10000.000000    10000.000000\n",
              "mean      51.452200    25516.806778\n",
              "std       19.588974    14067.292709\n",
              "min       18.000000     1000.180837\n",
              "25%       35.000000    13506.523967\n",
              "50%       52.000000    25258.112566\n",
              "75%       68.000000    37733.913727\n",
              "max       85.000000    49995.902283"
            ],
            "text/html": [
              "\n",
              "  <div id=\"df-364ff06a-298e-43e9-9d2f-49af0e830080\" class=\"colab-df-container\">\n",
              "    <div>\n",
              "<style scoped>\n",
              "    .dataframe tbody tr th:only-of-type {\n",
              "        vertical-align: middle;\n",
              "    }\n",
              "\n",
              "    .dataframe tbody tr th {\n",
              "        vertical-align: top;\n",
              "    }\n",
              "\n",
              "    .dataframe thead th {\n",
              "        text-align: right;\n",
              "    }\n",
              "</style>\n",
              "<table border=\"1\" class=\"dataframe\">\n",
              "  <thead>\n",
              "    <tr style=\"text-align: right;\">\n",
              "      <th></th>\n",
              "      <th>Age</th>\n",
              "      <th>Billing Amount</th>\n",
              "    </tr>\n",
              "  </thead>\n",
              "  <tbody>\n",
              "    <tr>\n",
              "      <th>count</th>\n",
              "      <td>10000.000000</td>\n",
              "      <td>10000.000000</td>\n",
              "    </tr>\n",
              "    <tr>\n",
              "      <th>mean</th>\n",
              "      <td>51.452200</td>\n",
              "      <td>25516.806778</td>\n",
              "    </tr>\n",
              "    <tr>\n",
              "      <th>std</th>\n",
              "      <td>19.588974</td>\n",
              "      <td>14067.292709</td>\n",
              "    </tr>\n",
              "    <tr>\n",
              "      <th>min</th>\n",
              "      <td>18.000000</td>\n",
              "      <td>1000.180837</td>\n",
              "    </tr>\n",
              "    <tr>\n",
              "      <th>25%</th>\n",
              "      <td>35.000000</td>\n",
              "      <td>13506.523967</td>\n",
              "    </tr>\n",
              "    <tr>\n",
              "      <th>50%</th>\n",
              "      <td>52.000000</td>\n",
              "      <td>25258.112566</td>\n",
              "    </tr>\n",
              "    <tr>\n",
              "      <th>75%</th>\n",
              "      <td>68.000000</td>\n",
              "      <td>37733.913727</td>\n",
              "    </tr>\n",
              "    <tr>\n",
              "      <th>max</th>\n",
              "      <td>85.000000</td>\n",
              "      <td>49995.902283</td>\n",
              "    </tr>\n",
              "  </tbody>\n",
              "</table>\n",
              "</div>\n",
              "    <div class=\"colab-df-buttons\">\n",
              "\n",
              "  <div class=\"colab-df-container\">\n",
              "    <button class=\"colab-df-convert\" onclick=\"convertToInteractive('df-364ff06a-298e-43e9-9d2f-49af0e830080')\"\n",
              "            title=\"Convert this dataframe to an interactive table.\"\n",
              "            style=\"display:none;\">\n",
              "\n",
              "  <svg xmlns=\"http://www.w3.org/2000/svg\" height=\"24px\" viewBox=\"0 -960 960 960\">\n",
              "    <path d=\"M120-120v-720h720v720H120Zm60-500h600v-160H180v160Zm220 220h160v-160H400v160Zm0 220h160v-160H400v160ZM180-400h160v-160H180v160Zm440 0h160v-160H620v160ZM180-180h160v-160H180v160Zm440 0h160v-160H620v160Z\"/>\n",
              "  </svg>\n",
              "    </button>\n",
              "\n",
              "  <style>\n",
              "    .colab-df-container {\n",
              "      display:flex;\n",
              "      gap: 12px;\n",
              "    }\n",
              "\n",
              "    .colab-df-convert {\n",
              "      background-color: #E8F0FE;\n",
              "      border: none;\n",
              "      border-radius: 50%;\n",
              "      cursor: pointer;\n",
              "      display: none;\n",
              "      fill: #1967D2;\n",
              "      height: 32px;\n",
              "      padding: 0 0 0 0;\n",
              "      width: 32px;\n",
              "    }\n",
              "\n",
              "    .colab-df-convert:hover {\n",
              "      background-color: #E2EBFA;\n",
              "      box-shadow: 0px 1px 2px rgba(60, 64, 67, 0.3), 0px 1px 3px 1px rgba(60, 64, 67, 0.15);\n",
              "      fill: #174EA6;\n",
              "    }\n",
              "\n",
              "    .colab-df-buttons div {\n",
              "      margin-bottom: 4px;\n",
              "    }\n",
              "\n",
              "    [theme=dark] .colab-df-convert {\n",
              "      background-color: #3B4455;\n",
              "      fill: #D2E3FC;\n",
              "    }\n",
              "\n",
              "    [theme=dark] .colab-df-convert:hover {\n",
              "      background-color: #434B5C;\n",
              "      box-shadow: 0px 1px 3px 1px rgba(0, 0, 0, 0.15);\n",
              "      filter: drop-shadow(0px 1px 2px rgba(0, 0, 0, 0.3));\n",
              "      fill: #FFFFFF;\n",
              "    }\n",
              "  </style>\n",
              "\n",
              "    <script>\n",
              "      const buttonEl =\n",
              "        document.querySelector('#df-364ff06a-298e-43e9-9d2f-49af0e830080 button.colab-df-convert');\n",
              "      buttonEl.style.display =\n",
              "        google.colab.kernel.accessAllowed ? 'block' : 'none';\n",
              "\n",
              "      async function convertToInteractive(key) {\n",
              "        const element = document.querySelector('#df-364ff06a-298e-43e9-9d2f-49af0e830080');\n",
              "        const dataTable =\n",
              "          await google.colab.kernel.invokeFunction('convertToInteractive',\n",
              "                                                    [key], {});\n",
              "        if (!dataTable) return;\n",
              "\n",
              "        const docLinkHtml = 'Like what you see? Visit the ' +\n",
              "          '<a target=\"_blank\" href=https://colab.research.google.com/notebooks/data_table.ipynb>data table notebook</a>'\n",
              "          + ' to learn more about interactive tables.';\n",
              "        element.innerHTML = '';\n",
              "        dataTable['output_type'] = 'display_data';\n",
              "        await google.colab.output.renderOutput(dataTable, element);\n",
              "        const docLink = document.createElement('div');\n",
              "        docLink.innerHTML = docLinkHtml;\n",
              "        element.appendChild(docLink);\n",
              "      }\n",
              "    </script>\n",
              "  </div>\n",
              "\n",
              "\n",
              "<div id=\"df-654c52d7-2bcf-489d-8def-c0b748db7e53\">\n",
              "  <button class=\"colab-df-quickchart\" onclick=\"quickchart('df-654c52d7-2bcf-489d-8def-c0b748db7e53')\"\n",
              "            title=\"Suggest charts\"\n",
              "            style=\"display:none;\">\n",
              "\n",
              "<svg xmlns=\"http://www.w3.org/2000/svg\" height=\"24px\"viewBox=\"0 0 24 24\"\n",
              "     width=\"24px\">\n",
              "    <g>\n",
              "        <path d=\"M19 3H5c-1.1 0-2 .9-2 2v14c0 1.1.9 2 2 2h14c1.1 0 2-.9 2-2V5c0-1.1-.9-2-2-2zM9 17H7v-7h2v7zm4 0h-2V7h2v10zm4 0h-2v-4h2v4z\"/>\n",
              "    </g>\n",
              "</svg>\n",
              "  </button>\n",
              "\n",
              "<style>\n",
              "  .colab-df-quickchart {\n",
              "      --bg-color: #E8F0FE;\n",
              "      --fill-color: #1967D2;\n",
              "      --hover-bg-color: #E2EBFA;\n",
              "      --hover-fill-color: #174EA6;\n",
              "      --disabled-fill-color: #AAA;\n",
              "      --disabled-bg-color: #DDD;\n",
              "  }\n",
              "\n",
              "  [theme=dark] .colab-df-quickchart {\n",
              "      --bg-color: #3B4455;\n",
              "      --fill-color: #D2E3FC;\n",
              "      --hover-bg-color: #434B5C;\n",
              "      --hover-fill-color: #FFFFFF;\n",
              "      --disabled-bg-color: #3B4455;\n",
              "      --disabled-fill-color: #666;\n",
              "  }\n",
              "\n",
              "  .colab-df-quickchart {\n",
              "    background-color: var(--bg-color);\n",
              "    border: none;\n",
              "    border-radius: 50%;\n",
              "    cursor: pointer;\n",
              "    display: none;\n",
              "    fill: var(--fill-color);\n",
              "    height: 32px;\n",
              "    padding: 0;\n",
              "    width: 32px;\n",
              "  }\n",
              "\n",
              "  .colab-df-quickchart:hover {\n",
              "    background-color: var(--hover-bg-color);\n",
              "    box-shadow: 0 1px 2px rgba(60, 64, 67, 0.3), 0 1px 3px 1px rgba(60, 64, 67, 0.15);\n",
              "    fill: var(--button-hover-fill-color);\n",
              "  }\n",
              "\n",
              "  .colab-df-quickchart-complete:disabled,\n",
              "  .colab-df-quickchart-complete:disabled:hover {\n",
              "    background-color: var(--disabled-bg-color);\n",
              "    fill: var(--disabled-fill-color);\n",
              "    box-shadow: none;\n",
              "  }\n",
              "\n",
              "  .colab-df-spinner {\n",
              "    border: 2px solid var(--fill-color);\n",
              "    border-color: transparent;\n",
              "    border-bottom-color: var(--fill-color);\n",
              "    animation:\n",
              "      spin 1s steps(1) infinite;\n",
              "  }\n",
              "\n",
              "  @keyframes spin {\n",
              "    0% {\n",
              "      border-color: transparent;\n",
              "      border-bottom-color: var(--fill-color);\n",
              "      border-left-color: var(--fill-color);\n",
              "    }\n",
              "    20% {\n",
              "      border-color: transparent;\n",
              "      border-left-color: var(--fill-color);\n",
              "      border-top-color: var(--fill-color);\n",
              "    }\n",
              "    30% {\n",
              "      border-color: transparent;\n",
              "      border-left-color: var(--fill-color);\n",
              "      border-top-color: var(--fill-color);\n",
              "      border-right-color: var(--fill-color);\n",
              "    }\n",
              "    40% {\n",
              "      border-color: transparent;\n",
              "      border-right-color: var(--fill-color);\n",
              "      border-top-color: var(--fill-color);\n",
              "    }\n",
              "    60% {\n",
              "      border-color: transparent;\n",
              "      border-right-color: var(--fill-color);\n",
              "    }\n",
              "    80% {\n",
              "      border-color: transparent;\n",
              "      border-right-color: var(--fill-color);\n",
              "      border-bottom-color: var(--fill-color);\n",
              "    }\n",
              "    90% {\n",
              "      border-color: transparent;\n",
              "      border-bottom-color: var(--fill-color);\n",
              "    }\n",
              "  }\n",
              "</style>\n",
              "\n",
              "  <script>\n",
              "    async function quickchart(key) {\n",
              "      const quickchartButtonEl =\n",
              "        document.querySelector('#' + key + ' button');\n",
              "      quickchartButtonEl.disabled = true;  // To prevent multiple clicks.\n",
              "      quickchartButtonEl.classList.add('colab-df-spinner');\n",
              "      try {\n",
              "        const charts = await google.colab.kernel.invokeFunction(\n",
              "            'suggestCharts', [key], {});\n",
              "      } catch (error) {\n",
              "        console.error('Error during call to suggestCharts:', error);\n",
              "      }\n",
              "      quickchartButtonEl.classList.remove('colab-df-spinner');\n",
              "      quickchartButtonEl.classList.add('colab-df-quickchart-complete');\n",
              "    }\n",
              "    (() => {\n",
              "      let quickchartButtonEl =\n",
              "        document.querySelector('#df-654c52d7-2bcf-489d-8def-c0b748db7e53 button');\n",
              "      quickchartButtonEl.style.display =\n",
              "        google.colab.kernel.accessAllowed ? 'block' : 'none';\n",
              "    })();\n",
              "  </script>\n",
              "</div>\n",
              "    </div>\n",
              "  </div>\n"
            ]
          },
          "metadata": {},
          "execution_count": 604
        }
      ]
    },
    {
      "cell_type": "markdown",
      "source": [
        "The describe() function, takes all numeric columns and shows some basic statistics. This enables you to get an overview of the distribution of the data."
      ],
      "metadata": {
        "id": "p52E1lynwRwg"
      }
    },
    {
      "cell_type": "markdown",
      "source": [
        "## 4. Clean the data"
      ],
      "metadata": {
        "id": "B_QeO1l3a0i6"
      }
    },
    {
      "cell_type": "markdown",
      "source": [
        "### a. Identify null values with the _isnull()_ function\n",
        "\n",
        "Use _isnull().sum()_ where the sum indicates to show the total null values for each column."
      ],
      "metadata": {
        "id": "v2daS9inch9C"
      }
    },
    {
      "cell_type": "code",
      "source": [
        "data.isnull().sum()"
      ],
      "metadata": {
        "colab": {
          "base_uri": "https://localhost:8080/"
        },
        "id": "EZq6y55-wOtT",
        "outputId": "bd3f5105-ed13-403b-cb4d-de3aafef3be5"
      },
      "execution_count": null,
      "outputs": [
        {
          "output_type": "execute_result",
          "data": {
            "text/plain": [
              "Name                  0\n",
              "Age                   0\n",
              "Gender                0\n",
              "Blood Type            0\n",
              "Medical Condition     0\n",
              "Date of Admission     0\n",
              "Doctor                0\n",
              "Hospital              0\n",
              "Insurance Provider    0\n",
              "Billing Amount        0\n",
              "Room Number           0\n",
              "Admission Type        0\n",
              "Discharge Date        0\n",
              "Medication            0\n",
              "Test Results          0\n",
              "dtype: int64"
            ]
          },
          "metadata": {},
          "execution_count": 605
        }
      ]
    },
    {
      "cell_type": "markdown",
      "source": [
        "Null values insert noise into visualizations and analysis. You can delete them using the _dropna()_ function."
      ],
      "metadata": {
        "id": "MuQOF7JXdaFr"
      }
    },
    {
      "cell_type": "markdown",
      "source": [
        "### b. Find possible outliers\n",
        "\n",
        "In statistics, an outlier is an observation point distant from other observations. Often, outliers represent data points taken as a mistake or instances of information not representative of the population as a whole. It is good practice to detect these outliers and remove them from the dataset based on an establish rule or threshold.\n",
        "\n",
        "A common way to observe these outliers is a box plot. A box and whisker plot, also called a box plot, displays the five-number summary of a set of data. The five-number summary is the minimum, first quartile, median, third quartile, and maximum. In a box plot, we draw a box from the first quartile to the third quartile. A vertical line goes through the box at the median. On this type of visualization you can directly observe datapoints that fall outside the overall distribution.\n",
        "\n",
        "Note this analysis is only for columns that represent quantities.\n",
        "\n",
        "Below is an example of a boxplot were outliers are clearly visible outside the\n",
        "\n",
        "<img src=\"https://www.delftstack.com/img/Seaborn/total%20bill.png\" width=\"400\"/>\n",
        "\n",
        "Now for this dataset."
      ],
      "metadata": {
        "id": "Ud-p2MJTfgaC"
      }
    },
    {
      "cell_type": "code",
      "source": [
        "sns.boxplot(x=data['Age'])"
      ],
      "metadata": {
        "id": "HCa8y5Sic13i",
        "colab": {
          "base_uri": "https://localhost:8080/",
          "height": 467
        },
        "outputId": "f221db57-af8e-499e-f59b-214ca54189b5"
      },
      "execution_count": null,
      "outputs": [
        {
          "output_type": "execute_result",
          "data": {
            "text/plain": [
              "<Axes: xlabel='Age'>"
            ]
          },
          "metadata": {},
          "execution_count": 606
        },
        {
          "output_type": "display_data",
          "data": {
            "text/plain": [
              "<Figure size 640x480 with 1 Axes>"
            ],
            "image/png": "[encoded data removed]"
          },
          "metadata": {}
        }
      ]
    },
    {
      "cell_type": "code",
      "source": [
        "sns.boxplot(x=data['Billing Amount'])"
      ],
      "metadata": {
        "colab": {
          "base_uri": "https://localhost:8080/",
          "height": 467
        },
        "id": "z7LeXdTbh3hR",
        "outputId": "3d2fbdad-38b1-48c7-f6d3-2e6331e0e149"
      },
      "execution_count": null,
      "outputs": [
        {
          "output_type": "execute_result",
          "data": {
            "text/plain": [
              "<Axes: xlabel='Billing Amount'>"
            ]
          },
          "metadata": {},
          "execution_count": 607
        },
        {
          "output_type": "display_data",
          "data": {
            "text/plain": [
              "<Figure size 640x480 with 1 Axes>"
            ],
            "image/png": "[encoded data removed]"
          },
          "metadata": {}
        }
      ]
    },
    {
      "cell_type": "markdown",
      "source": [
        "In the case of this dataset, no evident outliers can be found."
      ],
      "metadata": {
        "id": "AEibC-hmjLoT"
      }
    },
    {
      "cell_type": "markdown",
      "source": [
        "## 5. Explore possible correlations\n",
        "\n",
        "You can begin by printing the correlation matrix for the numeric variables in your dataset:"
      ],
      "metadata": {
        "id": "t6E7E3IjjXcI"
      }
    },
    {
      "cell_type": "code",
      "source": [
        "corr_matrix = data.corr()\n",
        "print(corr_matrix)"
      ],
      "metadata": {
        "colab": {
          "base_uri": "https://localhost:8080/"
        },
        "id": "e_NLK_VtiIpZ",
        "outputId": "adad6053-3eb3-463f-e55f-f97385eb9efb"
      },
      "execution_count": null,
      "outputs": [
        {
          "output_type": "stream",
          "name": "stdout",
          "text": [
            "                     Age  Billing Amount\n",
            "Age             1.000000       -0.009483\n",
            "Billing Amount -0.009483        1.000000\n"
          ]
        },
        {
          "output_type": "stream",
          "name": "stderr",
          "text": [
            "<ipython-input-608-f50fb7f1b89e>:1: FutureWarning: The default value of numeric_only in DataFrame.corr is deprecated. In a future version, it will default to False. Select only valid columns or specify the value of numeric_only to silence this warning.\n",
            "  corr_matrix = data.corr()\n"
          ]
        }
      ]
    },
    {
      "cell_type": "markdown",
      "source": [
        "In this case, we only have two numeric variables. A variable has a correlation of 1 with itself. With the other variables, the closer you get to 1 the stronger the correlation is. You can see from this result that the age of the person has no correlation with the billing amount for their medical expenses."
      ],
      "metadata": {
        "id": "W8O2f0_Yklek"
      }
    },
    {
      "cell_type": "markdown",
      "source": [
        "### Heat Maps"
      ],
      "metadata": {
        "id": "biMrLdpNtN28"
      }
    },
    {
      "cell_type": "markdown",
      "source": [
        "One of the best way to find the relationship between the features can be done using heat maps."
      ],
      "metadata": {
        "id": "soBBxRRTklO9"
      }
    },
    {
      "cell_type": "code",
      "source": [
        "sns.heatmap(data[['Age','Billing Amount']].corr(), annot=True, cmap = 'Blues')\n",
        "plt.show()"
      ],
      "metadata": {
        "colab": {
          "base_uri": "https://localhost:8080/",
          "height": 435
        },
        "id": "dWkDlI6PkCGY",
        "outputId": "cc9deba2-0c84-49ce-9ff1-bf3363421ee6"
      },
      "execution_count": null,
      "outputs": [
        {
          "output_type": "display_data",
          "data": {
            "text/plain": [
              "<Figure size 640x480 with 2 Axes>"
            ],
            "image/png": "[encoded data removed]"
          },
          "metadata": {}
        }
      ]
    },
    {
      "cell_type": "markdown",
      "source": [
        "### Correlation between categorical variables\n",
        "\n",
        "To establish a possible correlation between categorical variables, is a more complex process. A helpful analysis is Chi Square which you can implement in Python. This [resource](https://analyticsindiamag.com/how-to-use-the-chi-square-test-for-two-categorical-variables/) contains an example."
      ],
      "metadata": {
        "id": "_sr4hDUfK8HJ"
      }
    },
    {
      "cell_type": "markdown",
      "source": [
        "## Common visualizations"
      ],
      "metadata": {
        "id": "NXPxQd3KNiq6"
      }
    },
    {
      "cell_type": "markdown",
      "source": [
        "### Variable distributions\n",
        "\n",
        "It is often helpful and simple to visualize the distribution of values for numeric variables."
      ],
      "metadata": {
        "id": "sn8IYCj1NoIn"
      }
    },
    {
      "cell_type": "code",
      "source": [
        "sns.histplot(data['Age']);"
      ],
      "metadata": {
        "colab": {
          "base_uri": "https://localhost:8080/",
          "height": 449
        },
        "id": "4hQFDbB3lIRW",
        "outputId": "03f87c81-499b-4b99-f645-38563a526d5e"
      },
      "execution_count": null,
      "outputs": [
        {
          "output_type": "display_data",
          "data": {
            "text/plain": [
              "<Figure size 640x480 with 1 Axes>"
            ],
            "image/png": "[encoded data removed]"
          },
          "metadata": {}
        }
      ]
    },
    {
      "cell_type": "code",
      "source": [
        "sns.histplot(data['Billing Amount']);"
      ],
      "metadata": {
        "colab": {
          "base_uri": "https://localhost:8080/",
          "height": 449
        },
        "id": "EQ_i0NXzOcWX",
        "outputId": "4e2cc8e6-47f8-426f-ce92-3ffa46c41915"
      },
      "execution_count": null,
      "outputs": [
        {
          "output_type": "display_data",
          "data": {
            "text/plain": [
              "<Figure size 640x480 with 1 Axes>"
            ],
            "image/png": "[encoded data removed]"
          },
          "metadata": {}
        }
      ]
    },
    {
      "cell_type": "markdown",
      "source": [
        "### Scatter plots\n",
        "\n",
        "We generally use scatter plots to find the correlation between two variables."
      ],
      "metadata": {
        "id": "QMVGmfgCTT7G"
      }
    },
    {
      "cell_type": "code",
      "source": [
        "data.plot.scatter(x=\"Age\",y=\"Billing Amount\")\n",
        "plt.show()"
      ],
      "metadata": {
        "colab": {
          "base_uri": "https://localhost:8080/",
          "height": 449
        },
        "id": "U3Cc2NVrS_gA",
        "outputId": "f14ce43e-b777-4ac7-fef2-f09209729c33"
      },
      "execution_count": null,
      "outputs": [
        {
          "output_type": "display_data",
          "data": {
            "text/plain": [
              "<Figure size 640x480 with 1 Axes>"
            ],
            "image/png": "[encoded data removed]"
          },
          "metadata": {}
        }
      ]
    },
    {
      "cell_type": "markdown",
      "source": [
        "Because Age and Billing Amount do not show a specific relation, as found by the correlation values, the scatter plot does not show a pattern."
      ],
      "metadata": {
        "id": "H6aqKrLJTlnz"
      }
    },
    {
      "cell_type": "markdown",
      "source": [
        "### Visualizations for categorical variables\n",
        "\n",
        "Note that the dataset in this example is heavy on the categorical variables. For that reason, we will cover some of the most common types of visuals for these values."
      ],
      "metadata": {
        "id": "YwMgtp3IT7lM"
      }
    },
    {
      "cell_type": "markdown",
      "source": [
        "#### Bar chart\n",
        "\n",
        "Bar charts are one of the many techniques used to present data in a visual form so that the reader may readily recognize patterns or trends. Bar charts usually present categorical variables, discrete variables or continuous variables grouped in class intervals.\n",
        "\n",
        "Review the [documention for Seaborn's options](https://seaborn.pydata.org/generated/seaborn.barplot.html)."
      ],
      "metadata": {
        "id": "ShMAxJWPUB83"
      }
    },
    {
      "cell_type": "markdown",
      "source": [
        "With the Seaborn library, you can use counplot to find the frequency of values in a variable."
      ],
      "metadata": {
        "id": "YxYvDb35fOl4"
      }
    },
    {
      "cell_type": "code",
      "source": [
        "sns.countplot(data, x=\"Gender\");"
      ],
      "metadata": {
        "colab": {
          "base_uri": "https://localhost:8080/",
          "height": 449
        },
        "id": "tXYiIAVHTRxn",
        "outputId": "90b120aa-ba8f-4606-a7b1-3f524260506d"
      },
      "execution_count": null,
      "outputs": [
        {
          "output_type": "display_data",
          "data": {
            "text/plain": [
              "<Figure size 640x480 with 1 Axes>"
            ],
            "image/png": "[encoded data removed]"
          },
          "metadata": {}
        }
      ]
    },
    {
      "cell_type": "code",
      "source": [
        "sns.countplot(data, x=\"Medical Condition\", hue=\"Gender\"); # You can use the value of \"hue\" to present the information for different categories"
      ],
      "metadata": {
        "colab": {
          "base_uri": "https://localhost:8080/",
          "height": 449
        },
        "id": "R0Brxb5ZgPHZ",
        "outputId": "af2c718b-88fb-44ef-aa51-1e07a48fca73"
      },
      "execution_count": null,
      "outputs": [
        {
          "output_type": "display_data",
          "data": {
            "text/plain": [
              "<Figure size 640x480 with 1 Axes>"
            ],
            "image/png": "[encoded data removed]"
          },
          "metadata": {}
        }
      ]
    },
    {
      "cell_type": "markdown",
      "source": [
        "You can use barplot to find the values of a variable based on another one."
      ],
      "metadata": {
        "id": "9pxa1_fefeun"
      }
    },
    {
      "cell_type": "code",
      "source": [
        "sns.barplot(data, x=\"Medical Condition\", y=\"Billing Amount\");"
      ],
      "metadata": {
        "colab": {
          "base_uri": "https://localhost:8080/",
          "height": 449
        },
        "id": "zfvJC0Eqercu",
        "outputId": "c5773061-6a3b-4889-ebcf-4c127c46c7a7"
      },
      "execution_count": null,
      "outputs": [
        {
          "output_type": "display_data",
          "data": {
            "text/plain": [
              "<Figure size 640x480 with 1 Axes>"
            ],
            "image/png": "[encoded data removed]"
          },
          "metadata": {}
        }
      ]
    },
    {
      "cell_type": "code",
      "source": [
        "sns.barplot(data, x=\"Insurance Provider\", y=\"Billing Amount\");"
      ],
      "metadata": {
        "colab": {
          "base_uri": "https://localhost:8080/",
          "height": 449
        },
        "id": "8W1PIexpgDJK",
        "outputId": "d674e443-0473-44c5-f5b8-cb03293e3f7f"
      },
      "execution_count": null,
      "outputs": [
        {
          "output_type": "display_data",
          "data": {
            "text/plain": [
              "<Figure size 640x480 with 1 Axes>"
            ],
            "image/png": "[encoded data removed]"
          },
          "metadata": {}
        }
      ]
    },
    {
      "cell_type": "markdown",
      "source": [
        "We can observe that the billing amount does not vary greatly based on the type of illness or the insurance people use."
      ],
      "metadata": {
        "id": "79YKtjyygHwi"
      }
    },
    {
      "cell_type": "markdown",
      "source": [
        "#### Pie chart\n",
        "\n",
        "A pie chart, sometimes called a circle chart, is a way of summarizing a set of nominal data or displaying the different values of a given variable (e.g. percentage distribution). This type of chart is a circle divided into a series of segments. Each segment represents a particular category."
      ],
      "metadata": {
        "id": "WppwbeyZUas9"
      }
    },
    {
      "cell_type": "code",
      "source": [
        "#compute data for plotting\n",
        "labels = data['Admission Type'].unique()\n",
        "values = data['Admission Type'].value_counts()\n",
        "\n",
        "#plot the chart\n",
        "fig, ax = plt.subplots()\n",
        "pie=ax.pie(values, labels=labels, autopct='%1.1f%%', pctdistance = 0.75, counterclock=False, startangle=-270)\n",
        "\n",
        "#set chart title\n",
        "ax.set_title('Admission Type')\n",
        "\n",
        "#adjust chart margin and layout\n",
        "fig.tight_layout()\n",
        "\n",
        "#show chart\n",
        "plt.show()"
      ],
      "metadata": {
        "colab": {
          "base_uri": "https://localhost:8080/",
          "height": 487
        },
        "id": "NCZ-794-2AJe",
        "outputId": "20a357a6-a83b-42f3-9c00-21bb757b1ad8"
      },
      "execution_count": null,
      "outputs": [
        {
          "output_type": "display_data",
          "data": {
            "text/plain": [
              "<Figure size 640x480 with 1 Axes>"
            ],
            "image/png": "[encoded data removed]"
          },
          "metadata": {}
        }
      ]
    },
    {
      "cell_type": "code",
      "source": [
        "#compute data for plotting\n",
        "labels = data['Medical Condition'].unique()\n",
        "values = data['Medical Condition'].value_counts()\n",
        "\n",
        "#plot the chart\n",
        "fig, ax = plt.subplots()\n",
        "pie=ax.pie(values, labels=labels, autopct='%1.1f%%', pctdistance = 0.75, counterclock=False, startangle=-270)\n",
        "\n",
        "#set chart title\n",
        "ax.set_title('Medical Condition')\n",
        "\n",
        "#adjust chart margin and layout\n",
        "fig.tight_layout()\n",
        "\n",
        "#show chart\n",
        "plt.show()"
      ],
      "metadata": {
        "colab": {
          "base_uri": "https://localhost:8080/",
          "height": 487
        },
        "id": "Kr9GXEci3ppA",
        "outputId": "f35cacc7-0cdc-4df6-dadc-3bb79b49f091"
      },
      "execution_count": null,
      "outputs": [
        {
          "output_type": "display_data",
          "data": {
            "text/plain": [
              "<Figure size 640x480 with 1 Axes>"
            ],
            "image/png": "[encoded data removed]"
          },
          "metadata": {}
        }
      ]
    },
    {
      "cell_type": "markdown",
      "source": [
        "## Using datetime values\n",
        "\n",
        "Working with datetimes values can be a little more tricky than other types of variables. Below is just one example of visualization for datetime values, but you can explore documentation and resources to find more ways to represent these values."
      ],
      "metadata": {
        "id": "YWRoz7E3bWwQ"
      }
    },
    {
      "cell_type": "code",
      "source": [
        "# The following piece of code obtains the total admissions for each month.\n",
        "\n",
        "datetime = pd.DataFrame([data['Date of Admission'], data['Name']]).transpose()\n",
        "\n",
        "datetime = (datetime.reset_index()\n",
        "          .groupby(['Date of Admission','Name'], as_index=False)\n",
        "          .count()\n",
        "          .rename(columns={'index':'Total Admissions'})\n",
        "       )\n",
        "\n",
        "datetime['Date of Admission'] = pd.to_datetime(datetime[\"Date of Admission\"], format='%Y-%m-%d')\n",
        "\n",
        "datetime = datetime.groupby(datetime['Date of Admission'].dt.to_period('M')).sum()\n",
        "\n",
        "datetime.reset_index(drop=False, inplace=True)\n",
        "\n",
        "datetime.head(15)"
      ],
      "metadata": {
        "colab": {
          "base_uri": "https://localhost:8080/",
          "height": 575
        },
        "id": "eyau27WLXuaI",
        "outputId": "47ab80cd-8e42-4949-a3ec-1d0d7d520917"
      },
      "execution_count": null,
      "outputs": [
        {
          "output_type": "stream",
          "name": "stderr",
          "text": [
            "<ipython-input-619-83ef81016f47>:13: FutureWarning: The default value of numeric_only in DataFrameGroupBy.sum is deprecated. In a future version, numeric_only will default to False. Either specify numeric_only or select only columns which should be valid for the function.\n",
            "  datetime = datetime.groupby(datetime['Date of Admission'].dt.to_period('M')).sum()\n"
          ]
        },
        {
          "output_type": "execute_result",
          "data": {
            "text/plain": [
              "   Date of Admission  Total Admissions\n",
              "0            2018-10                 8\n",
              "1            2018-11               145\n",
              "2            2018-12               150\n",
              "3            2019-01               178\n",
              "4            2019-02               138\n",
              "5            2019-03               152\n",
              "6            2019-04               180\n",
              "7            2019-05               165\n",
              "8            2019-06               167\n",
              "9            2019-07               181\n",
              "10           2019-08               151\n",
              "11           2019-09               161\n",
              "12           2019-10               159\n",
              "13           2019-11               160\n",
              "14           2019-12               181"
            ],
            "text/html": [
              "\n",
              "  <div id=\"df-72d95f2d-e4d0-4762-bf9d-0621630dc72a\" class=\"colab-df-container\">\n",
              "    <div>\n",
              "<style scoped>\n",
              "    .dataframe tbody tr th:only-of-type {\n",
              "        vertical-align: middle;\n",
              "    }\n",
              "\n",
              "    .dataframe tbody tr th {\n",
              "        vertical-align: top;\n",
              "    }\n",
              "\n",
              "    .dataframe thead th {\n",
              "        text-align: right;\n",
              "    }\n",
              "</style>\n",
              "<table border=\"1\" class=\"dataframe\">\n",
              "  <thead>\n",
              "    <tr style=\"text-align: right;\">\n",
              "      <th></th>\n",
              "      <th>Date of Admission</th>\n",
              "      <th>Total Admissions</th>\n",
              "    </tr>\n",
              "  </thead>\n",
              "  <tbody>\n",
              "    <tr>\n",
              "      <th>0</th>\n",
              "      <td>2018-10</td>\n",
              "      <td>8</td>\n",
              "    </tr>\n",
              "    <tr>\n",
              "      <th>1</th>\n",
              "      <td>2018-11</td>\n",
              "      <td>145</td>\n",
              "    </tr>\n",
              "    <tr>\n",
              "      <th>2</th>\n",
              "      <td>2018-12</td>\n",
              "      <td>150</td>\n",
              "    </tr>\n",
              "    <tr>\n",
              "      <th>3</th>\n",
              "      <td>2019-01</td>\n",
              "      <td>178</td>\n",
              "    </tr>\n",
              "    <tr>\n",
              "      <th>4</th>\n",
              "      <td>2019-02</td>\n",
              "      <td>138</td>\n",
              "    </tr>\n",
              "    <tr>\n",
              "      <th>5</th>\n",
              "      <td>2019-03</td>\n",
              "      <td>152</td>\n",
              "    </tr>\n",
              "    <tr>\n",
              "      <th>6</th>\n",
              "      <td>2019-04</td>\n",
              "      <td>180</td>\n",
              "    </tr>\n",
              "    <tr>\n",
              "      <th>7</th>\n",
              "      <td>2019-05</td>\n",
              "      <td>165</td>\n",
              "    </tr>\n",
              "    <tr>\n",
              "      <th>8</th>\n",
              "      <td>2019-06</td>\n",
              "      <td>167</td>\n",
              "    </tr>\n",
              "    <tr>\n",
              "      <th>9</th>\n",
              "      <td>2019-07</td>\n",
              "      <td>181</td>\n",
              "    </tr>\n",
              "    <tr>\n",
              "      <th>10</th>\n",
              "      <td>2019-08</td>\n",
              "      <td>151</td>\n",
              "    </tr>\n",
              "    <tr>\n",
              "      <th>11</th>\n",
              "      <td>2019-09</td>\n",
              "      <td>161</td>\n",
              "    </tr>\n",
              "    <tr>\n",
              "      <th>12</th>\n",
              "      <td>2019-10</td>\n",
              "      <td>159</td>\n",
              "    </tr>\n",
              "    <tr>\n",
              "      <th>13</th>\n",
              "      <td>2019-11</td>\n",
              "      <td>160</td>\n",
              "    </tr>\n",
              "    <tr>\n",
              "      <th>14</th>\n",
              "      <td>2019-12</td>\n",
              "      <td>181</td>\n",
              "    </tr>\n",
              "  </tbody>\n",
              "</table>\n",
              "</div>\n",
              "    <div class=\"colab-df-buttons\">\n",
              "\n",
              "  <div class=\"colab-df-container\">\n",
              "    <button class=\"colab-df-convert\" onclick=\"convertToInteractive('df-72d95f2d-e4d0-4762-bf9d-0621630dc72a')\"\n",
              "            title=\"Convert this dataframe to an interactive table.\"\n",
              "            style=\"display:none;\">\n",
              "\n",
              "  <svg xmlns=\"http://www.w3.org/2000/svg\" height=\"24px\" viewBox=\"0 -960 960 960\">\n",
              "    <path d=\"M120-120v-720h720v720H120Zm60-500h600v-160H180v160Zm220 220h160v-160H400v160Zm0 220h160v-160H400v160ZM180-400h160v-160H180v160Zm440 0h160v-160H620v160ZM180-180h160v-160H180v160Zm440 0h160v-160H620v160Z\"/>\n",
              "  </svg>\n",
              "    </button>\n",
              "\n",
              "  <style>\n",
              "    .colab-df-container {\n",
              "      display:flex;\n",
              "      gap: 12px;\n",
              "    }\n",
              "\n",
              "    .colab-df-convert {\n",
              "      background-color: #E8F0FE;\n",
              "      border: none;\n",
              "      border-radius: 50%;\n",
              "      cursor: pointer;\n",
              "      display: none;\n",
              "      fill: #1967D2;\n",
              "      height: 32px;\n",
              "      padding: 0 0 0 0;\n",
              "      width: 32px;\n",
              "    }\n",
              "\n",
              "    .colab-df-convert:hover {\n",
              "      background-color: #E2EBFA;\n",
              "      box-shadow: 0px 1px 2px rgba(60, 64, 67, 0.3), 0px 1px 3px 1px rgba(60, 64, 67, 0.15);\n",
              "      fill: #174EA6;\n",
              "    }\n",
              "\n",
              "    .colab-df-buttons div {\n",
              "      margin-bottom: 4px;\n",
              "    }\n",
              "\n",
              "    [theme=dark] .colab-df-convert {\n",
              "      background-color: #3B4455;\n",
              "      fill: #D2E3FC;\n",
              "    }\n",
              "\n",
              "    [theme=dark] .colab-df-convert:hover {\n",
              "      background-color: #434B5C;\n",
              "      box-shadow: 0px 1px 3px 1px rgba(0, 0, 0, 0.15);\n",
              "      filter: drop-shadow(0px 1px 2px rgba(0, 0, 0, 0.3));\n",
              "      fill: #FFFFFF;\n",
              "    }\n",
              "  </style>\n",
              "\n",
              "    <script>\n",
              "      const buttonEl =\n",
              "        document.querySelector('#df-72d95f2d-e4d0-4762-bf9d-0621630dc72a button.colab-df-convert');\n",
              "      buttonEl.style.display =\n",
              "        google.colab.kernel.accessAllowed ? 'block' : 'none';\n",
              "\n",
              "      async function convertToInteractive(key) {\n",
              "        const element = document.querySelector('#df-72d95f2d-e4d0-4762-bf9d-0621630dc72a');\n",
              "        const dataTable =\n",
              "          await google.colab.kernel.invokeFunction('convertToInteractive',\n",
              "                                                    [key], {});\n",
              "        if (!dataTable) return;\n",
              "\n",
              "        const docLinkHtml = 'Like what you see? Visit the ' +\n",
              "          '<a target=\"_blank\" href=https://colab.research.google.com/notebooks/data_table.ipynb>data table notebook</a>'\n",
              "          + ' to learn more about interactive tables.';\n",
              "        element.innerHTML = '';\n",
              "        dataTable['output_type'] = 'display_data';\n",
              "        await google.colab.output.renderOutput(dataTable, element);\n",
              "        const docLink = document.createElement('div');\n",
              "        docLink.innerHTML = docLinkHtml;\n",
              "        element.appendChild(docLink);\n",
              "      }\n",
              "    </script>\n",
              "  </div>\n",
              "\n",
              "\n",
              "<div id=\"df-a3a3d110-3f31-468a-959b-27bc4ab40f6b\">\n",
              "  <button class=\"colab-df-quickchart\" onclick=\"quickchart('df-a3a3d110-3f31-468a-959b-27bc4ab40f6b')\"\n",
              "            title=\"Suggest charts\"\n",
              "            style=\"display:none;\">\n",
              "\n",
              "<svg xmlns=\"http://www.w3.org/2000/svg\" height=\"24px\"viewBox=\"0 0 24 24\"\n",
              "     width=\"24px\">\n",
              "    <g>\n",
              "        <path d=\"M19 3H5c-1.1 0-2 .9-2 2v14c0 1.1.9 2 2 2h14c1.1 0 2-.9 2-2V5c0-1.1-.9-2-2-2zM9 17H7v-7h2v7zm4 0h-2V7h2v10zm4 0h-2v-4h2v4z\"/>\n",
              "    </g>\n",
              "</svg>\n",
              "  </button>\n",
              "\n",
              "<style>\n",
              "  .colab-df-quickchart {\n",
              "      --bg-color: #E8F0FE;\n",
              "      --fill-color: #1967D2;\n",
              "      --hover-bg-color: #E2EBFA;\n",
              "      --hover-fill-color: #174EA6;\n",
              "      --disabled-fill-color: #AAA;\n",
              "      --disabled-bg-color: #DDD;\n",
              "  }\n",
              "\n",
              "  [theme=dark] .colab-df-quickchart {\n",
              "      --bg-color: #3B4455;\n",
              "      --fill-color: #D2E3FC;\n",
              "      --hover-bg-color: #434B5C;\n",
              "      --hover-fill-color: #FFFFFF;\n",
              "      --disabled-bg-color: #3B4455;\n",
              "      --disabled-fill-color: #666;\n",
              "  }\n",
              "\n",
              "  .colab-df-quickchart {\n",
              "    background-color: var(--bg-color);\n",
              "    border: none;\n",
              "    border-radius: 50%;\n",
              "    cursor: pointer;\n",
              "    display: none;\n",
              "    fill: var(--fill-color);\n",
              "    height: 32px;\n",
              "    padding: 0;\n",
              "    width: 32px;\n",
              "  }\n",
              "\n",
              "  .colab-df-quickchart:hover {\n",
              "    background-color: var(--hover-bg-color);\n",
              "    box-shadow: 0 1px 2px rgba(60, 64, 67, 0.3), 0 1px 3px 1px rgba(60, 64, 67, 0.15);\n",
              "    fill: var(--button-hover-fill-color);\n",
              "  }\n",
              "\n",
              "  .colab-df-quickchart-complete:disabled,\n",
              "  .colab-df-quickchart-complete:disabled:hover {\n",
              "    background-color: var(--disabled-bg-color);\n",
              "    fill: var(--disabled-fill-color);\n",
              "    box-shadow: none;\n",
              "  }\n",
              "\n",
              "  .colab-df-spinner {\n",
              "    border: 2px solid var(--fill-color);\n",
              "    border-color: transparent;\n",
              "    border-bottom-color: var(--fill-color);\n",
              "    animation:\n",
              "      spin 1s steps(1) infinite;\n",
              "  }\n",
              "\n",
              "  @keyframes spin {\n",
              "    0% {\n",
              "      border-color: transparent;\n",
              "      border-bottom-color: var(--fill-color);\n",
              "      border-left-color: var(--fill-color);\n",
              "    }\n",
              "    20% {\n",
              "      border-color: transparent;\n",
              "      border-left-color: var(--fill-color);\n",
              "      border-top-color: var(--fill-color);\n",
              "    }\n",
              "    30% {\n",
              "      border-color: transparent;\n",
              "      border-left-color: var(--fill-color);\n",
              "      border-top-color: var(--fill-color);\n",
              "      border-right-color: var(--fill-color);\n",
              "    }\n",
              "    40% {\n",
              "      border-color: transparent;\n",
              "      border-right-color: var(--fill-color);\n",
              "      border-top-color: var(--fill-color);\n",
              "    }\n",
              "    60% {\n",
              "      border-color: transparent;\n",
              "      border-right-color: var(--fill-color);\n",
              "    }\n",
              "    80% {\n",
              "      border-color: transparent;\n",
              "      border-right-color: var(--fill-color);\n",
              "      border-bottom-color: var(--fill-color);\n",
              "    }\n",
              "    90% {\n",
              "      border-color: transparent;\n",
              "      border-bottom-color: var(--fill-color);\n",
              "    }\n",
              "  }\n",
              "</style>\n",
              "\n",
              "  <script>\n",
              "    async function quickchart(key) {\n",
              "      const quickchartButtonEl =\n",
              "        document.querySelector('#' + key + ' button');\n",
              "      quickchartButtonEl.disabled = true;  // To prevent multiple clicks.\n",
              "      quickchartButtonEl.classList.add('colab-df-spinner');\n",
              "      try {\n",
              "        const charts = await google.colab.kernel.invokeFunction(\n",
              "            'suggestCharts', [key], {});\n",
              "      } catch (error) {\n",
              "        console.error('Error during call to suggestCharts:', error);\n",
              "      }\n",
              "      quickchartButtonEl.classList.remove('colab-df-spinner');\n",
              "      quickchartButtonEl.classList.add('colab-df-quickchart-complete');\n",
              "    }\n",
              "    (() => {\n",
              "      let quickchartButtonEl =\n",
              "        document.querySelector('#df-a3a3d110-3f31-468a-959b-27bc4ab40f6b button');\n",
              "      quickchartButtonEl.style.display =\n",
              "        google.colab.kernel.accessAllowed ? 'block' : 'none';\n",
              "    })();\n",
              "  </script>\n",
              "</div>\n",
              "    </div>\n",
              "  </div>\n"
            ]
          },
          "metadata": {},
          "execution_count": 619
        }
      ]
    },
    {
      "cell_type": "code",
      "source": [
        "datetime.plot(x='Date of Admission', y='Total Admissions', figsize=(10, 5));"
      ],
      "metadata": {
        "colab": {
          "base_uri": "https://localhost:8080/",
          "height": 465
        },
        "id": "5foYpk_gYfEy",
        "outputId": "a9de9808-9fa9-4792-b23d-36b2e70acac8"
      },
      "execution_count": null,
      "outputs": [
        {
          "output_type": "display_data",
          "data": {
            "text/plain": [
              "<Figure size 1000x500 with 1 Axes>"
            ],
            "image/png": "[encoded data removed]"
          },
          "metadata": {}
        }
      ]
    }
  ]
}